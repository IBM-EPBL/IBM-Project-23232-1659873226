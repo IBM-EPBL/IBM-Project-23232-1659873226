{
  "nbformat": 4,
  "nbformat_minor": 0,
  "metadata": {
    "colab": {
      "provenance": []
    },
    "kernelspec": {
      "name": "python3",
      "display_name": "Python 3"
    },
    "language_info": {
      "name": "python"
    }
  },
  "cells": [
    {
      "cell_type": "markdown",
      "source": [
        "Adding Dense Layers"
      ],
      "metadata": {
        "id": "rtDbnmw9Iw3N"
      }
    },
    {
      "cell_type": "markdown",
      "source": [
        "Hidden layer"
      ],
      "metadata": {
        "id": "H1VbXYkjMRDG"
      }
    },
    {
      "cell_type": "code",
      "source": [
        "model.add(Dense(500,activation = \"relu\"))"
      ],
      "metadata": {
        "id": "zA0I9pXeMT17"
      },
      "execution_count": 14,
      "outputs": []
    },
    {
      "cell_type": "markdown",
      "source": [
        "Output layer\n",
        "\n"
      ],
      "metadata": {
        "id": "-vHLYsyxMmrJ"
      }
    },
    {
      "cell_type": "code",
      "source": [
        "model.add(Dense(6,activation = \"softmax\"))"
      ],
      "metadata": {
        "id": "03msglJnMh_z"
      },
      "execution_count": 15,
      "outputs": []
    }
  ]
}