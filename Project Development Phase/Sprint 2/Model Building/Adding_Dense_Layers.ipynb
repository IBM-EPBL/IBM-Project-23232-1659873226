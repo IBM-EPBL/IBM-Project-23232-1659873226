{
  "nbformat": 4,
  "nbformat_minor": 0,
  "metadata": {
    "colab": {
      "provenance": [],
      "collapsed_sections": []
    },
    "kernelspec": {
      "name": "python3",
      "display_name": "Python 3"
    },
    "language_info": {
      "name": "python"
    }
  },
  "cells": [
    {
      "cell_type": "markdown",
      "source": [
        "Adding Dense Layers"
      ],
      "metadata": {
        "id": "AtrszdjllrVS"
      }
    },
    {
      "cell_type": "markdown",
      "source": [
        "Hidden Layer"
      ],
      "metadata": {
        "id": "LAbXLY0Omnll"
      }
    },
    {
      "cell_type": "code",
      "source": [
        "model.add(Dense(500,activation = \"relu\"))"
      ],
      "metadata": {
        "id": "9n5K-Hhtlt2S"
      },
      "execution_count": 6,
      "outputs": []
    },
    {
      "cell_type": "markdown",
      "source": [
        "Output Layer"
      ],
      "metadata": {
        "id": "mjQ6dhMemvTl"
      }
    },
    {
      "cell_type": "code",
      "source": [
        "model.add(Dense(6,activation = \"softmax\"))"
      ],
      "metadata": {
        "id": "WscuxCA2lx5B"
      },
      "execution_count": 7,
      "outputs": []
    }
  ]
}