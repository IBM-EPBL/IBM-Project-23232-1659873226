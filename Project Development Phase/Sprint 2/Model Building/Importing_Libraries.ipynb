{
  "nbformat": 4,
  "nbformat_minor": 0,
  "metadata": {
    "colab": {
      "provenance": []
    },
    "kernelspec": {
      "name": "python3",
      "display_name": "Python 3"
    },
    "language_info": {
      "name": "python"
    }
  },
  "cells": [
    {
      "cell_type": "markdown",
      "source": [
        "Importing Libraries"
      ],
      "metadata": {
        "id": "QtUn3ADjjkOD"
      }
    },
    {
      "cell_type": "code",
      "source": [
        "from tensorflow.keras.models import Sequential\n",
        "from tensorflow.keras.layers import Dense,Flatten\n",
        "\n",
        "from tensorflow.keras.layers import Conv2D,MaxPooling2D"
      ],
      "metadata": {
        "id": "tEZ07FL6jtQV"
      },
      "execution_count": 1,
      "outputs": []
    }
  ]
}