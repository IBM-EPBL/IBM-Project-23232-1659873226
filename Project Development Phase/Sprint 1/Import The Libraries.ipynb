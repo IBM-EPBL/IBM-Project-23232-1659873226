{
  "nbformat": 4,
  "nbformat_minor": 0,
  "metadata": {
    "colab": {
      "provenance": []
    },
    "kernelspec": {
      "name": "python3",
      "display_name": "Python 3"
    },
    "language_info": {
      "name": "python"
    }
  },
  "cells": [
    {
      "cell_type": "markdown",
      "source": [
        "Model Building"
      ],
      "metadata": {
        "id": "1Ijmtk8dGnti"
      }
    },
    {
      "cell_type": "markdown",
      "source": [
        "Importing Libraries"
      ],
      "metadata": {
        "id": "cSccj2WlGzBM"
      }
    },
    {
      "cell_type": "code",
      "execution_count": 1,
      "metadata": {
        "id": "gPVqqNfGGnUX"
      },
      "outputs": [],
      "source": [
        "from tensorflow.keras.models import Sequential"
      ]
    },
    {
      "cell_type": "code",
      "source": [
        "from tensorflow.keras.layers import Dense,Flatten\n",
        "\n",
        "from tensorflow.keras.layers import Conv2D,MaxPooling2D"
      ],
      "metadata": {
        "id": "mf1KoxkpHT4Z"
      },
      "execution_count": 2,
      "outputs": []
    }
  ]
}